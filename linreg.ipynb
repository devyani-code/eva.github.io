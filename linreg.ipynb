{
 "cells": [
  {
   "cell_type": "code",
   "execution_count": 4,
   "metadata": {},
   "outputs": [],
   "source": [
    "import numpy as np\n",
    "import pandas as pd\n",
    "import matplotlib.pyplot as plt"
   ]
  },
  {
   "cell_type": "code",
   "execution_count": null,
   "metadata": {},
   "outputs": [],
   "source": []
  },
  {
   "cell_type": "code",
   "execution_count": null,
   "metadata": {},
   "outputs": [],
   "source": []
  },
  {
   "cell_type": "code",
   "execution_count": 5,
   "metadata": {},
   "outputs": [],
   "source": [
    "x=np.array([1,2,3,4,5,6,7,8])\n",
    "y=np.array([3,4,6,7,8,9,11,13])\n"
   ]
  },
  {
   "cell_type": "code",
   "execution_count": 6,
   "metadata": {},
   "outputs": [
    {
     "data": {
      "text/plain": [
       "Text(0, 0.5, 'Weight')"
      ]
     },
     "execution_count": 6,
     "metadata": {},
     "output_type": "execute_result"
    },
    {
     "data": {
      "image/png": "[encoded data removed]",
      "text/plain": [
       "<Figure size 432x288 with 1 Axes>"
      ]
     },
     "metadata": {
      "needs_background": "light"
     },
     "output_type": "display_data"
    }
   ],
   "source": [
    "plt.scatter(x,y)\n",
    "plt.grid()\n",
    "plt.xlabel(\"Price\")\n",
    "plt.ylabel(\"Weight\")"
   ]
  },
  {
   "cell_type": "code",
   "execution_count": 7,
   "metadata": {},
   "outputs": [],
   "source": [
    "#creating cost function\n",
    "m=len(y)\n",
    "x0=np.ones((m,1))\n"
   ]
  },
  {
   "cell_type": "code",
   "execution_count": 8,
   "metadata": {},
   "outputs": [],
   "source": [
    "x1=x.reshape((m,1))\n"
   ]
  },
  {
   "cell_type": "code",
   "execution_count": null,
   "metadata": {},
   "outputs": [],
   "source": []
  },
  {
   "cell_type": "code",
   "execution_count": 9,
   "metadata": {},
   "outputs": [
    {
     "name": "stdout",
     "output_type": "stream",
     "text": [
      "[[1. 1.]\n",
      " [1. 2.]\n",
      " [1. 3.]\n",
      " [1. 4.]\n",
      " [1. 5.]\n",
      " [1. 6.]\n",
      " [1. 7.]\n",
      " [1. 8.]]\n"
     ]
    }
   ],
   "source": [
    "X=np.hstack((x0,x1))\n",
    "print(X)"
   ]
  },
  {
   "cell_type": "code",
   "execution_count": 10,
   "metadata": {},
   "outputs": [],
   "source": [
    "#Defining cost function\n",
    "the=np.array([[0.1],[0.1]])\n",
    "m=len(y)\n",
    "\n"
   ]
  },
  {
   "cell_type": "code",
   "execution_count": 11,
   "metadata": {},
   "outputs": [],
   "source": [
    "def cost(X,y,the):\n",
    "    m=len(x)\n",
    "    pred=(X.dot(the))\n",
    "    print(pred)\n",
    "    err=y-pred\n",
    "    print(err)\n",
    "    sqerr=np.square(err)\n",
    "    j=1/(2*m)*np.sum(sqerr)\n",
    "    return(j)   \n",
    "\n",
    "    \n",
    "    \n",
    "    \n",
    "    "
   ]
  },
  {
   "cell_type": "code",
   "execution_count": 12,
   "metadata": {},
   "outputs": [
    {
     "name": "stdout",
     "output_type": "stream",
     "text": [
      "[[0.2]\n",
      " [0.3]\n",
      " [0.4]\n",
      " [0.5]\n",
      " [0.6]\n",
      " [0.7]\n",
      " [0.8]\n",
      " [0.9]]\n",
      "[[ 2.8  3.8  5.8  6.8  7.8  8.8 10.8 12.8]\n",
      " [ 2.7  3.7  5.7  6.7  7.7  8.7 10.7 12.7]\n",
      " [ 2.6  3.6  5.6  6.6  7.6  8.6 10.6 12.6]\n",
      " [ 2.5  3.5  5.5  6.5  7.5  8.5 10.5 12.5]\n",
      " [ 2.4  3.4  5.4  6.4  7.4  8.4 10.4 12.4]\n",
      " [ 2.3  3.3  5.3  6.3  7.3  8.3 10.3 12.3]\n",
      " [ 2.2  3.2  5.2  6.2  7.2  8.2 10.2 12.2]\n",
      " [ 2.1  3.1  5.1  6.1  7.1  8.1 10.1 12.1]]\n",
      "240.37\n"
     ]
    }
   ],
   "source": [
    "cos=cost(X,y,the)\n",
    "print(cos)"
   ]
  },
  {
   "cell_type": "code",
   "execution_count": 13,
   "metadata": {},
   "outputs": [],
   "source": [
    "\n",
    "def grad(X,y,the,alpha,epochs):\n",
    "    m=len(x)\n",
    "    cost_hist=np.zeros(epochs)\n",
    "    for i in range(epochs):\n",
    "        pred=(X.dot(the))\n",
    "        err=(y-pred)\n",
    "        the=the-(alpha/m)*(X.T.dot(err))\n",
    "    \n",
    "    return(the)\n",
    "\n",
    "        "
   ]
  },
  {
   "cell_type": "code",
   "execution_count": 14,
   "metadata": {},
   "outputs": [
    {
     "name": "stdout",
     "output_type": "stream",
     "text": [
      "[[ -0.84671217  -1.24682756  -2.04705835  -2.44717374  -2.84728913\n",
      "   -3.24740453  -4.04763531  -4.8478661 ]\n",
      " [ -4.89198457  -7.02820934 -11.30065887 -13.43688364 -15.5731084\n",
      "  -17.70933317 -21.9817827  -26.25423223]]\n"
     ]
    }
   ],
   "source": [
    "p=grad(X,y,the,0.001,100)\n",
    "print(p)"
   ]
  },
  {
   "cell_type": "code",
   "execution_count": 15,
   "metadata": {},
   "outputs": [],
   "source": [
    "c=p[0]\n",
    "m=p[1]"
   ]
  },
  {
   "cell_type": "code",
   "execution_count": 16,
   "metadata": {},
   "outputs": [
    {
     "name": "stdout",
     "output_type": "stream",
     "text": [
      "[  -5.73869674  -15.30324624  -35.94903496  -56.19470828  -80.71283114\n",
      " -109.50340353 -157.92011419 -214.88172392]\n"
     ]
    }
   ],
   "source": [
    "Y=m*x+c\n",
    "print(Y)"
   ]
  },
  {
   "cell_type": "code",
   "execution_count": 17,
   "metadata": {},
   "outputs": [
    {
     "data": {
      "text/plain": [
       "<matplotlib.collections.PathCollection at 0x11bf67b8850>"
      ]
     },
     "execution_count": 17,
     "metadata": {},
     "output_type": "execute_result"
    },
    {
     "data": {
      "image/png": "[encoded data removed]",
      "text/plain": [
       "<Figure size 432x288 with 1 Axes>"
      ]
     },
     "metadata": {
      "needs_background": "light"
     },
     "output_type": "display_data"
    }
   ],
   "source": [
    "plt.plot(x,Y)     \n",
    "plt.scatter(x,y)"
   ]
  },
  {
   "cell_type": "code",
   "execution_count": null,
   "metadata": {},
   "outputs": [],
   "source": []
  },
  {
   "cell_type": "code",
   "execution_count": null,
   "metadata": {},
   "outputs": [],
   "source": []
  },
  {
   "cell_type": "code",
   "execution_count": null,
   "metadata": {},
   "outputs": [],
   "source": []
  },
  {
   "cell_type": "code",
   "execution_count": null,
   "metadata": {},
   "outputs": [],
   "source": []
  },
  {
   "cell_type": "code",
   "execution_count": null,
   "metadata": {},
   "outputs": [],
   "source": []
  },
  {
   "cell_type": "code",
   "execution_count": null,
   "metadata": {},
   "outputs": [],
   "source": []
  },
  {
   "cell_type": "code",
   "execution_count": null,
   "metadata": {},
   "outputs": [],
   "source": []
  },
  {
   "cell_type": "code",
   "execution_count": null,
   "metadata": {},
   "outputs": [],
   "source": []
  }
 ],
 "metadata": {
  "kernelspec": {
   "display_name": "Python 3",
   "language": "python",
   "name": "python3"
  },
  "language_info": {
   "codemirror_mode": {
    "name": "ipython",
    "version": 3
   },
   "file_extension": ".py",
   "mimetype": "text/x-python",
   "name": "python",
   "nbconvert_exporter": "python",
   "pygments_lexer": "ipython3",
   "version": "3.8.5"
  }
 },
 "nbformat": 4,
 "nbformat_minor": 4
}
