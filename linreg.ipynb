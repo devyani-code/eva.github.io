{
  "nbformat": 4,
  "nbformat_minor": 0,
  "metadata": {
    "kernelspec": {
      "display_name": "Python 3",
      "language": "python",
      "name": "python3"
    },
    "language_info": {
      "codemirror_mode": {
        "name": "ipython",
        "version": 3
      },
      "file_extension": ".py",
      "mimetype": "text/x-python",
      "name": "python",
      "nbconvert_exporter": "python",
      "pygments_lexer": "ipython3",
      "version": "3.8.5"
    },
    "colab": {
      "name": "linreg.ipynb",
      "provenance": [],
      "include_colab_link": true
    }
  },
  "cells": [
    {
      "cell_type": "markdown",
      "metadata": {
        "id": "view-in-github",
        "colab_type": "text"
      },
      "source": [
        "<a href=\"https://colab.research.google.com/github/devyani-code/eva.github.io/blob/main/linreg.ipynb\" target=\"_parent\"><img src=\"https://colab.research.google.com/assets/colab-badge.svg\" alt=\"Open In Colab\"/></a>"
      ]
    },
    {
      "cell_type": "code",
      "metadata": {
        "id": "NF6qb8hVzYrz"
      },
      "source": [
        "import numpy as np\n",
        "import pandas as pd\n",
        "import matplotlib.pyplot as plt"
      ],
      "execution_count": null,
      "outputs": []
    },
    {
      "cell_type": "code",
      "metadata": {
        "id": "m2h8irG0zYr-"
      },
      "source": [
        "X=np.array([1,2,3,4,5,6,7,8])\n",
        "Y=np.array([8,14,17,23,25,26,28,30])\n"
      ],
      "execution_count": null,
      "outputs": []
    },
    {
      "cell_type": "code",
      "metadata": {
        "colab": {
          "base_uri": "https://localhost:8080/",
          "height": 297
        },
        "id": "p-yF0rvtzYr_",
        "outputId": "c1a59bdd-46ac-4df1-91de-0a1aa899140f"
      },
      "source": [
        "plt.scatter(X,Y)\n",
        "plt.grid()\n",
        "plt.xlabel(\"Price\")\n",
        "plt.ylabel(\"Weight\")"
      ],
      "execution_count": null,
      "outputs": [
        {
          "output_type": "execute_result",
          "data": {
            "text/plain": [
              "Text(0, 0.5, 'Weight')"
            ]
          },
          "metadata": {
            "tags": []
          },
          "execution_count": 13
        },
        {
          "output_type": "display_data",
          "data": {
            "image/png": "[encoded data removed]",
            "text/plain": [
              "<Figure size 432x288 with 1 Axes>"
            ]
          },
          "metadata": {
            "tags": [],
            "needs_background": "light"
          }
        }
      ]
    },
    {
      "cell_type": "code",
      "metadata": {
        "id": "CGQd4sxuzYsE"
      },
      "source": [
        "#Defining cost function\n",
        "theta=np.array([[0.1],[0.1]])\n",
        "#let n be no. of features\n",
        "def hypothesis(x,theta):\n",
        "    y_= theta[0]+theta[1]*x\n",
        "    return y_\n",
        "\n"
      ],
      "execution_count": null,
      "outputs": []
    },
    {
      "cell_type": "code",
      "metadata": {
        "id": "USq_0wzCzYsE"
      },
      "source": [
        "def cost(X,Y,theta):\n",
        "    m=len(Y)\n",
        "    error=0\n",
        "    for i in range(m):\n",
        "      y_=hypothesis(X[i],theta)\n",
        "      error+=(1/2*m)*((y_-Y)**2)\n",
        "    return (error)\n",
        "\n",
        "\n",
        "    \n",
        "    \n",
        "    \n",
        "    "
      ],
      "execution_count": null,
      "outputs": []
    },
    {
      "cell_type": "code",
      "metadata": {
        "id": "DFpje0puzYsG"
      },
      "source": [
        "def gradient(X,Y,theta):\n",
        "  m=len(Y)\n",
        "  grad=np.zeros((2,))\n",
        "  for i in range(m):\n",
        "    x=X[i]\n",
        "    y=Y[i]\n",
        "    y_=hypothesis(x,theta)\n",
        "    grad[0]+=(y_-y)*(1/m)\n",
        "    grad[1]+=(y_-y)*(x/m)\n",
        "  return grad\n"
      ],
      "execution_count": null,
      "outputs": []
    },
    {
      "cell_type": "code",
      "metadata": {
        "id": "3q5wGHyNzYsH"
      },
      "source": [
        "\n",
        "def gradientdesc(X,Y,alpha,epochs):\n",
        "    m=len(Y)\n",
        "    theta=np.zeros((2,))\n",
        "    for i in range(epochs):\n",
        "      grad = gradient(X,Y,theta)\n",
        "      theta[0]=theta[0]-alpha*grad[0]\n",
        "      theta[1]=theta[1]-(alpha*grad[1])\n",
        "    return(theta)\n",
        "\n",
        "\n",
        "\n",
        "\n",
        "\n",
        "\n",
        "    \n",
        "\n",
        "        "
      ],
      "execution_count": null,
      "outputs": []
    },
    {
      "cell_type": "code",
      "metadata": {
        "colab": {
          "base_uri": "https://localhost:8080/"
        },
        "id": "qfz_bGUNzYsH",
        "outputId": "606b1db1-7d79-4347-91cb-5a28a0aba108"
      },
      "source": [
        "theta=gradientdesc(X,Y,0.01,1000)\n",
        "print(theta)\n",
        "error=cost(X,Y,theta)\n",
        "print(error)"
      ],
      "execution_count": null,
      "outputs": [
        {
          "output_type": "stream",
          "text": [
            "[6.86389278 3.18221487]\n",
            "5738.501659935623\n"
          ],
          "name": "stdout"
        }
      ]
    },
    {
      "cell_type": "code",
      "metadata": {
        "id": "NgliRnpxzYsH"
      },
      "source": [
        "c=theta[1]\n",
        "m=theta[0]"
      ],
      "execution_count": null,
      "outputs": []
    },
    {
      "cell_type": "code",
      "metadata": {
        "colab": {
          "base_uri": "https://localhost:8080/"
        },
        "id": "aPPCSRTWzYsH",
        "outputId": "29c8d625-f932-4cd7-aca5-fe7d56193692"
      },
      "source": [
        "y_=hypothesis(X,theta)\n",
        "print(y_)"
      ],
      "execution_count": null,
      "outputs": [
        {
          "output_type": "stream",
          "text": [
            "[10.04610765 13.22832252 16.4105374  19.59275227 22.77496714 25.95718202\n",
            " 29.13939689 32.32161177]\n"
          ],
          "name": "stdout"
        }
      ]
    },
    {
      "cell_type": "code",
      "metadata": {
        "colab": {
          "base_uri": "https://localhost:8080/",
          "height": 283
        },
        "id": "BcShLct8zYsI",
        "outputId": "9d670ca5-11bd-4945-e3aa-160768adb1aa"
      },
      "source": [
        "plt.plot(X,y_)\n",
        "plt.scatter(X,Y)"
      ],
      "execution_count": null,
      "outputs": [
        {
          "output_type": "execute_result",
          "data": {
            "text/plain": [
              "<matplotlib.collections.PathCollection at 0x7febdae277d0>"
            ]
          },
          "metadata": {
            "tags": []
          },
          "execution_count": 40
        },
        {
          "output_type": "display_data",
          "data": {
            "image/png": "[encoded data removed]",
            "text/plain": [
              "<Figure size 432x288 with 1 Axes>"
            ]
          },
          "metadata": {
            "tags": [],
            "needs_background": "light"
          }
        }
      ]
    },
    {
      "cell_type": "code",
      "metadata": {
        "id": "55sW_XL8zYsJ"
      },
      "source": [
        ""
      ],
      "execution_count": null,
      "outputs": []
    },
    {
      "cell_type": "code",
      "metadata": {
        "id": "ngnoddrMzYsK"
      },
      "source": [
        ""
      ],
      "execution_count": null,
      "outputs": []
    },
    {
      "cell_type": "code",
      "metadata": {
        "id": "R8AGHqvVzYsK"
      },
      "source": [
        ""
      ],
      "execution_count": null,
      "outputs": []
    },
    {
      "cell_type": "code",
      "metadata": {
        "id": "k8f26sDDzYsK"
      },
      "source": [
        ""
      ],
      "execution_count": null,
      "outputs": []
    },
    {
      "cell_type": "code",
      "metadata": {
        "id": "IZPDhBEuzYsL"
      },
      "source": [
        ""
      ],
      "execution_count": null,
      "outputs": []
    },
    {
      "cell_type": "code",
      "metadata": {
        "id": "36uZiFmCzYsL"
      },
      "source": [
        ""
      ],
      "execution_count": null,
      "outputs": []
    },
    {
      "cell_type": "code",
      "metadata": {
        "id": "aOFuGP3kzYsL"
      },
      "source": [
        ""
      ],
      "execution_count": null,
      "outputs": []
    },
    {
      "cell_type": "code",
      "metadata": {
        "id": "G6dczs8MzYsL"
      },
      "source": [
        ""
      ],
      "execution_count": null,
      "outputs": []
    }
  ]
}