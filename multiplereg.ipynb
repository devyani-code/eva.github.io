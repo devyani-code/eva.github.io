{
  "nbformat": 4,
  "nbformat_minor": 0,
  "metadata": {
    "colab": {
      "name": "multiplereg.ipynb",
      "provenance": [],
      "include_colab_link": true
    },
    "kernelspec": {
      "display_name": "Python 3",
      "language": "python",
      "name": "python3"
    },
    "language_info": {
      "codemirror_mode": {
        "name": "ipython",
        "version": 3
      },
      "file_extension": ".py",
      "mimetype": "text/x-python",
      "name": "python",
      "nbconvert_exporter": "python",
      "pygments_lexer": "ipython3",
      "version": "3.8.5"
    }
  },
  "cells": [
    {
      "cell_type": "markdown",
      "metadata": {
        "id": "view-in-github",
        "colab_type": "text"
      },
      "source": [
        "<a href=\"https://colab.research.google.com/github/devyani-code/eva.github.io/blob/main/multiplereg.ipynb\" target=\"_parent\"><img src=\"https://colab.research.google.com/assets/colab-badge.svg\" alt=\"Open In Colab\"/></a>"
      ]
    },
    {
      "cell_type": "code",
      "metadata": {
        "id": "NF6qb8hVzYrz"
      },
      "source": [
        "import numpy as np\n",
        "import pandas as pd\n",
        "import matplotlib.pyplot as plt"
      ],
      "execution_count": 2,
      "outputs": []
    },
    {
      "cell_type": "code",
      "metadata": {
        "id": "m2h8irG0zYr-"
      },
      "source": [
        "x1=np.array([[1,2,3,4,5,6,7,8],[2,4,5,6,9,11,15,16]])\n",
        "Y=np.array([8,14,17,23,25,26,28,30])\n"
      ],
      "execution_count": 3,
      "outputs": []
    },
    {
      "cell_type": "code",
      "metadata": {
        "colab": {
          "base_uri": "https://localhost:8080/"
        },
        "id": "p-yF0rvtzYr_",
        "outputId": "f40ff699-c7a5-4315-f42c-e1684cc9d4fb"
      },
      "source": [
        "m=len(Y)\n",
        "n=len(x1[0])\n",
        "one=np.ones((m,1))\n",
        "x1=x1.reshape((m,2))\n",
        "X=np.hstack((one,x1))\n",
        "print(X)\n",
        "print(n)"
      ],
      "execution_count": 6,
      "outputs": [
        {
          "output_type": "stream",
          "text": [
            "[[ 1.  1.  2.]\n",
            " [ 1.  3.  4.]\n",
            " [ 1.  5.  6.]\n",
            " [ 1.  7.  8.]\n",
            " [ 1.  2.  4.]\n",
            " [ 1.  5.  6.]\n",
            " [ 1.  9. 11.]\n",
            " [ 1. 15. 16.]]\n",
            "2\n"
          ],
          "name": "stdout"
        }
      ]
    },
    {
      "cell_type": "code",
      "metadata": {
        "colab": {
          "base_uri": "https://localhost:8080/"
        },
        "id": "CGQd4sxuzYsE",
        "outputId": "1e1b55b8-1fda-41eb-bea6-c72527a72e45"
      },
      "source": [
        "#Defining cost function\n",
        "theta=np.array([[0.4],[0.4],[0.2]])\n",
        "#let n be no. of features\n",
        "def hypothesis(X,theta):\n",
        "    y_=X.dot(theta)\n",
        "    return y_.flatten()\n",
        "y_=hypothesis(X,theta)\n",
        "\n",
        "print(y_)"
      ],
      "execution_count": 16,
      "outputs": [
        {
          "output_type": "stream",
          "text": [
            "[1.2 2.4 3.6 4.8 2.  3.6 6.2 9.6]\n"
          ],
          "name": "stdout"
        }
      ]
    },
    {
      "cell_type": "code",
      "metadata": {
        "id": "USq_0wzCzYsE"
      },
      "source": [
        "def cost(X,Y,theta):\n",
        "    m=len(Y)\n",
        "    for i in range(m):\n",
        "      y_=hypothesis(X,theta)\n",
        "      error=(1/2*m)*((y_-Y)**2)\n",
        "      return np.sum(error)\n",
        "\n",
        "\n",
        "    \n",
        "    \n",
        "    \n",
        "    "
      ],
      "execution_count": 17,
      "outputs": []
    },
    {
      "cell_type": "code",
      "metadata": {
        "colab": {
          "base_uri": "https://localhost:8080/"
        },
        "id": "DFpje0puzYsG",
        "outputId": "e1970b8e-0146-4c2e-c7b6-f90b442339f3"
      },
      "source": [
        "def gradient(X,Y,theta):\n",
        "  m=len(Y)\n",
        "  n=len(x1[0])\n",
        "  grad=np.zeros((n+1,))\n",
        "  y_=hypothesis(X,theta)\n",
        "  for i in range(m):\n",
        "    y=Y[i]\n",
        "    y_1=y_[i]\n",
        "    for j in range(n+1):\n",
        "      if j==0:\n",
        "        grad[0]+=(y_1-y)*(1/m)\n",
        "      else:\n",
        "        grad[j]=(y_1-y)*(1/m)*(X[i][j])\n",
        "  return grad\n",
        "grad=gradient(X,Y,theta)\n",
        "print(grad)\n"
      ],
      "execution_count": 23,
      "outputs": [
        {
          "output_type": "stream",
          "text": [
            "[0.0570932  1.98241012 2.11457079]\n"
          ],
          "name": "stdout"
        }
      ]
    },
    {
      "cell_type": "code",
      "metadata": {
        "id": "3q5wGHyNzYsH"
      },
      "source": [
        "\n",
        "def gradientdesc(X,Y,alpha,epochs):\n",
        "    n=len(x1[0])\n",
        "    \n",
        "    theta=np.zeros((n+1,))\n",
        "    for i in range(epochs):\n",
        "      grad = gradient(X,Y,theta)\n",
        "      for j in range(n+1):\n",
        "        theta[j]=theta[j]-alpha*grad[j]\n",
        "    return(theta)\n",
        "\n",
        "\n",
        "\n",
        "\n",
        "\n",
        "\n",
        "\n",
        "    \n",
        "\n",
        "        "
      ],
      "execution_count": 24,
      "outputs": []
    },
    {
      "cell_type": "code",
      "metadata": {
        "colab": {
          "base_uri": "https://localhost:8080/"
        },
        "id": "qfz_bGUNzYsH",
        "outputId": "d73657b5-1a39-42bd-c9b1-f02a81fa86b6"
      },
      "source": [
        "\n",
        "theta=gradientdesc(X,Y,0.01,2000)\n",
        "print(theta)\n",
        "error=cost(X,Y,theta)\n",
        "print(error)"
      ],
      "execution_count": 35,
      "outputs": [
        {
          "output_type": "stream",
          "text": [
            "[15.12356731  0.46392206  0.4948502 ]\n",
            "785.075814911922\n"
          ],
          "name": "stdout"
        }
      ]
    },
    {
      "cell_type": "code",
      "metadata": {
        "id": "NgliRnpxzYsH",
        "colab": {
          "base_uri": "https://localhost:8080/"
        },
        "outputId": "e9f6ba0d-93ee-4526-c13f-5e31045eb494"
      },
      "source": [
        "y_=hypothesis(X,theta)\r\n",
        "print(y_)"
      ],
      "execution_count": 37,
      "outputs": [
        {
          "output_type": "stream",
          "text": [
            "[16.57718976 18.49473428 20.4122788  22.32982332 18.03081222 20.4122788\n",
            " 24.74221804 30.00000139]\n"
          ],
          "name": "stdout"
        }
      ]
    },
    {
      "cell_type": "code",
      "metadata": {
        "colab": {
          "base_uri": "https://localhost:8080/",
          "height": 265
        },
        "id": "BcShLct8zYsI",
        "outputId": "3da95d41-8b46-4d19-e89e-35b4634f28d1"
      },
      "source": [
        "import matplotlib.pyplot as plt\n",
        "import mpl_toolkits\n",
        "from mpl_toolkits.mplot3d import Axes3D\n",
        "\n",
        "fig=plt.figure()\n",
        "ax=fig.add_subplot(111, projection='3d')\n",
        "x=[1,2,3,4,5,6,7,8]\n",
        "y=[2,4,5,6,9,11,15,16]\n",
        "z=[8,14,17,23,25,26,28,30]\n",
        "ax.scatter(x,y,z,c='r',marker='o')\n",
        "\n",
        "ax.set_xlabel('x')\n",
        "ax.set_ylabel('y')\n",
        "ax.set_zlabel('z')\n"
      ],
      "execution_count": 38,
      "outputs": [
        {
          "output_type": "execute_result",
          "data": {
            "text/plain": [
              "Text(0.5, 0, 'z')"
            ]
          },
          "metadata": {
            "tags": []
          },
          "execution_count": 38
        },
        {
          "output_type": "display_data",
          "data": {
            "image/png": "[encoded data removed]",
            "text/plain": [
              "<Figure size 432x288 with 1 Axes>"
            ]
          },
          "metadata": {
            "tags": [],
            "needs_background": "light"
          }
        }
      ]
    },
    {
      "cell_type": "code",
      "metadata": {
        "id": "55sW_XL8zYsJ"
      },
      "source": [
        ""
      ],
      "execution_count": null,
      "outputs": []
    },
    {
      "cell_type": "code",
      "metadata": {
        "colab": {
          "base_uri": "https://localhost:8080/",
          "height": 265
        },
        "id": "sJHZkQIRl-xI",
        "outputId": "05ec3da3-4752-42a1-ad8c-0e0fafb45018"
      },
      "source": [
        "import matplotlib.pyplot as plt\n",
        "import mpl_toolkits\n",
        "from mpl_toolkits.mplot3d import Axes3D\n",
        "\n",
        "fig=plt.figure()\n",
        "ax=fig.add_subplot(111, projection='3d')\n",
        "x=[1,2,3,4,5,6,7,8]\n",
        "y=y_\n",
        "z=[8,14,17,23,25,26,28,30]\n",
        "ax.scatter(x,y,z,c='r',marker='o')\n",
        "\n",
        "ax.set_xlabel('x')\n",
        "ax.set_ylabel('y')\n",
        "ax.set_zlabel('z')\n"
      ],
      "execution_count": 39,
      "outputs": [
        {
          "output_type": "execute_result",
          "data": {
            "text/plain": [
              "Text(0.5, 0, 'z')"
            ]
          },
          "metadata": {
            "tags": []
          },
          "execution_count": 39
        },
        {
          "output_type": "display_data",
          "data": {
            "image/png": "[encoded data removed]",
            "text/plain": [
              "<Figure size 432x288 with 1 Axes>"
            ]
          },
          "metadata": {
            "tags": [],
            "needs_background": "light"
          }
        }
      ]
    },
    {
      "cell_type": "code",
      "metadata": {
        "id": "ngnoddrMzYsK"
      },
      "source": [
        ""
      ],
      "execution_count": null,
      "outputs": []
    },
    {
      "cell_type": "code",
      "metadata": {
        "id": "R8AGHqvVzYsK"
      },
      "source": [
        ""
      ],
      "execution_count": null,
      "outputs": []
    },
    {
      "cell_type": "code",
      "metadata": {
        "id": "k8f26sDDzYsK"
      },
      "source": [
        ""
      ],
      "execution_count": null,
      "outputs": []
    },
    {
      "cell_type": "code",
      "metadata": {
        "id": "IZPDhBEuzYsL"
      },
      "source": [
        ""
      ],
      "execution_count": null,
      "outputs": []
    },
    {
      "cell_type": "code",
      "metadata": {
        "id": "36uZiFmCzYsL"
      },
      "source": [
        ""
      ],
      "execution_count": null,
      "outputs": []
    },
    {
      "cell_type": "code",
      "metadata": {
        "id": "aOFuGP3kzYsL"
      },
      "source": [
        ""
      ],
      "execution_count": null,
      "outputs": []
    },
    {
      "cell_type": "code",
      "metadata": {
        "id": "G6dczs8MzYsL"
      },
      "source": [
        ""
      ],
      "execution_count": null,
      "outputs": []
    }
  ]
}